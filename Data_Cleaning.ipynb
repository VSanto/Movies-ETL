{
 "cells": [
  {
   "cell_type": "code",
   "execution_count": null,
   "id": "a050377c",
   "metadata": {},
   "outputs": [],
   "source": [
    "import json\n",
    "import pandas as pd\n",
    "import numpy as np\n",
    "import re\n",
    "pd.options.display.max_colwidth = 100"
   ]
  },
  {
   "cell_type": "code",
   "execution_count": null,
   "id": "dbf6509a",
   "metadata": {},
   "outputs": [],
   "source": [
    "# File extraction\n",
    "movies_metadata = pd.read_csv('movies_metadata.csv', low_memory=False)\n",
    "ratings = pd.read_csv('ratings.csv')"
   ]
  },
  {
   "cell_type": "code",
   "execution_count": null,
   "id": "24118312",
   "metadata": {},
   "outputs": [],
   "source": [
    "# Checking incoming movie data begining files\n",
    "movies_metadata.head()"
   ]
  },
  {
   "cell_type": "code",
   "execution_count": null,
   "id": "36cc221e",
   "metadata": {},
   "outputs": [],
   "source": [
    "# Checking incoming ratings data beginning files\n",
    "ratings.head()"
   ]
  },
  {
   "cell_type": "code",
   "execution_count": null,
   "id": "4159df9d",
   "metadata": {},
   "outputs": [],
   "source": [
    "# Checking sample of movies file\n",
    "movies_metadata.sample(n=5)"
   ]
  },
  {
   "cell_type": "code",
   "execution_count": null,
   "id": "817e7cda",
   "metadata": {},
   "outputs": [],
   "source": [
    "# Checking sample of ratings file\n",
    "ratings.sample(n=5)"
   ]
  },
  {
   "cell_type": "code",
   "execution_count": null,
   "id": "a32ada75",
   "metadata": {},
   "outputs": [],
   "source": [
    "# File location\n",
    "file_dir = \"C:\\\\Users\\Valerie\\Desktop\\Challenges\\Module_8\\Movies-ETL\""
   ]
  },
  {
   "cell_type": "code",
   "execution_count": null,
   "id": "1a3e4eed",
   "metadata": {},
   "outputs": [],
   "source": [
    "f'{file_dir}Movies-ETL'"
   ]
  },
  {
   "cell_type": "code",
   "execution_count": null,
   "id": "d69e5e09",
   "metadata": {},
   "outputs": [],
   "source": [
    "# Web scrapping \n",
    "with open(f'{file_dir}/wikipedia-movies.json', mode='r') as file:\n",
    "    wiki_movies_raw = json.load(file)\n"
   ]
  },
  {
   "cell_type": "code",
   "execution_count": null,
   "id": "ad4fe3c5",
   "metadata": {},
   "outputs": [],
   "source": [
    "# Length of file\n",
    "len(wiki_movies_raw)"
   ]
  },
  {
   "cell_type": "code",
   "execution_count": null,
   "id": "e3e67d80",
   "metadata": {},
   "outputs": [],
   "source": [
    "# First 5 records\n",
    "wiki_movies_raw[:5]"
   ]
  },
  {
   "cell_type": "code",
   "execution_count": null,
   "id": "1e0a6bfe",
   "metadata": {},
   "outputs": [],
   "source": [
    "# Last 5 records\n",
    "wiki_movies_raw[-5:]"
   ]
  },
  {
   "cell_type": "code",
   "execution_count": null,
   "id": "5c4fefea",
   "metadata": {},
   "outputs": [],
   "source": [
    "# Some records in the middle\n",
    "wiki_movies_raw[3600:3605]"
   ]
  },
  {
   "cell_type": "code",
   "execution_count": null,
   "id": "f59bc590",
   "metadata": {},
   "outputs": [],
   "source": [
    "# Creating DataFrame wiki movies\n",
    "wiki_movies_df = pd.DataFrame(wiki_movies_raw)"
   ]
  },
  {
   "cell_type": "code",
   "execution_count": null,
   "id": "6af1caee",
   "metadata": {},
   "outputs": [],
   "source": [
    "# Checking DataFrame beginning lines\n",
    "wiki_movies_df.head()"
   ]
  },
  {
   "cell_type": "code",
   "execution_count": null,
   "id": "986062a0",
   "metadata": {},
   "outputs": [],
   "source": [
    "# DataFrame to list\n",
    "wiki_movies_df.columns.to_list()"
   ]
  },
  {
   "cell_type": "code",
   "execution_count": null,
   "id": "190dd100",
   "metadata": {},
   "outputs": [],
   "source": [
    "# Pulling data with specific identifires\n",
    "wiki_movies = [movie for movie in wiki_movies_raw\n",
    "                if('Director' in movie or 'Directed by' in movie)\n",
    "                  and 'imdb_link' in movie\n",
    "                  and 'No. of episodes' not in movie]"
   ]
  },
  {
   "cell_type": "code",
   "execution_count": null,
   "id": "52f52079",
   "metadata": {},
   "outputs": [],
   "source": [
    "# Creating wiki DataFrame\n",
    "wiki_df = pd.DataFrame(wiki_movies)"
   ]
  },
  {
   "cell_type": "code",
   "execution_count": null,
   "id": "25348fe5",
   "metadata": {},
   "outputs": [],
   "source": [
    "# Checking DataFrame beginning files\n",
    "wiki_df.head()"
   ]
  },
  {
   "cell_type": "code",
   "execution_count": null,
   "id": "a9fb7ca1",
   "metadata": {},
   "outputs": [],
   "source": [
    "# Opening data file\n",
    "with open(f'{file_dir}/ratings.csv') as file:\n",
    "    print(file)"
   ]
  },
  {
   "cell_type": "code",
   "execution_count": null,
   "id": "45ce0053",
   "metadata": {},
   "outputs": [],
   "source": [
    "# Reading rating DataFrame\n",
    "ratings_df = pd.read_csv(\"ratings.csv\")\n",
    "# Viewing first 5 of DataFrame\n",
    "ratings_df.head(5)"
   ]
  },
  {
   "cell_type": "code",
   "execution_count": null,
   "id": "895cad1c",
   "metadata": {},
   "outputs": [],
   "source": [
    "# Reading ratings Dataframe\n",
    "ratings_df= pd.read_csv(\"ratings.csv\")\n",
    "# Viewig last 5 of DataFrame\n",
    "ratings_df.tail(5)"
   ]
  },
  {
   "cell_type": "code",
   "execution_count": null,
   "id": "360e04e8",
   "metadata": {},
   "outputs": [],
   "source": [
    "# Reading ratings DataFrame\n",
    "ratings_df = pd.read_csv(\"ratings.csv\")\n",
    "# Viewing sample data\n",
    "ratings_df.sample(n=5)"
   ]
  },
  {
   "cell_type": "code",
   "execution_count": null,
   "id": "3a70cfed",
   "metadata": {},
   "outputs": [],
   "source": [
    "# Opening movies metadata csv\n",
    "with open(f'{file_dir}/movies_metadata.csv') as file:\n",
    " print(file)"
   ]
  },
  {
   "cell_type": "code",
   "execution_count": null,
   "id": "900abccd",
   "metadata": {},
   "outputs": [],
   "source": [
    "# Reading movies metadata file\n",
    "movies_metadata_df = pd.read_csv(\"movies_metadata.csv\", low_memory=False)\n",
    "# Viewing beginning lines of file\n",
    "movies_metadata_df.head(5)"
   ]
  },
  {
   "cell_type": "code",
   "execution_count": null,
   "id": "f4d96d9c",
   "metadata": {},
   "outputs": [],
   "source": [
    "# # Reading movies metadata file\n",
    "movies_metadata_df = pd.read_csv(\"movies_metadata.csv\",low_memory=False)\n",
    "# Viewing last few lines of file\n",
    "movies_metadata_df.tail(5)"
   ]
  },
  {
   "cell_type": "code",
   "execution_count": null,
   "id": "e047ad85",
   "metadata": {},
   "outputs": [],
   "source": [
    "# Reading movies metadata file\n",
    "movies_metadata_df = pd.read_csv(\"movies_metadata.csv\",low_memory=False)\n",
    "# Viewing sample lines of file\n",
    "movies_metadata_df.sample(5)"
   ]
  },
  {
   "cell_type": "code",
   "execution_count": null,
   "id": "9f41cd09",
   "metadata": {},
   "outputs": [],
   "source": []
  },
  {
   "cell_type": "code",
   "execution_count": null,
   "id": "70aed659",
   "metadata": {},
   "outputs": [],
   "source": [
    "# Opening wikipedia movie file\n",
    "with open(f'{file_dir}/wikipedia-movies.json') as file:\n",
    "        # Load file in json format\n",
    "          wiki_movies_raw=json.load(file)"
   ]
  },
  {
   "cell_type": "code",
   "execution_count": null,
   "id": "873c3339",
   "metadata": {},
   "outputs": [],
   "source": [
    "# Length of file    \n",
    "len(wiki_movies_raw)"
   ]
  },
  {
   "cell_type": "code",
   "execution_count": null,
   "id": "0ae7baa6",
   "metadata": {},
   "outputs": [],
   "source": [
    "# Creating wiki movie DataFrame\n",
    "wiki_movies_df = pd.DataFrame(wiki_movies_raw)"
   ]
  },
  {
   "cell_type": "code",
   "execution_count": null,
   "id": "e7915758",
   "metadata": {},
   "outputs": [],
   "source": [
    "# View beginning few lines of file\n",
    "wiki_movies_df.head()"
   ]
  },
  {
   "cell_type": "code",
   "execution_count": null,
   "id": "eb483cce",
   "metadata": {},
   "outputs": [],
   "source": [
    "# List file in columns\n",
    "wiki_movies_df.columns.to_list()"
   ]
  },
  {
   "cell_type": "code",
   "execution_count": null,
   "id": "58a405fd",
   "metadata": {},
   "outputs": [],
   "source": [
    "# Sift through data for relative data\n",
    "wiki_movies = [movie for movie in wiki_movies_raw\n",
    "              if ('Director' in movie or 'Directed by' in movie)\n",
    "              and 'imdb_link' in movie\n",
    "              and 'No. of episodes' not in movie]\n",
    "# Check lenght of file\n",
    "len(wiki_movies)"
   ]
  },
  {
   "cell_type": "code",
   "execution_count": null,
   "id": "0e229eb5",
   "metadata": {},
   "outputs": [],
   "source": [
    "# View beginning lines of file\n",
    "wiki_movies_df.head()"
   ]
  },
  {
   "cell_type": "code",
   "execution_count": null,
   "id": "faf04ebf",
   "metadata": {},
   "outputs": [],
   "source": [
    "wiki_movies_df[wiki_movies_df['Arabic'].notnull()]"
   ]
  },
  {
   "cell_type": "code",
   "execution_count": null,
   "id": "a43582f7",
   "metadata": {},
   "outputs": [],
   "source": [
    "# Begin to clean the data\n",
    "# Using file copy.\n",
    "def clean_movie(movie):\n",
    "    movie = dict(movie) #create a non-destructive copy\n",
    "    alt_titles = {}\n",
    "# combine alternate titles into one list\n",
    "    for key in ['Also known as','Arabic','Cantonese','Chinese','French',\n",
    "                'Hangul','Hebrew','Hepburn','Japanese','Literally',\n",
    "                'Mandarin','McCune-Reischauer','Original title','Polish',\n",
    "                'Revised Romanization','Romanized','Russian',\n",
    "                'Simplified','Traditional','Yiddish']:\n",
    "        if key in movie:\n",
    "            alt_titles[key] = movie[key]\n",
    "            movie.pop(key)\n",
    "        if len(alt_titles) > 0:\n",
    "            movie['alt_titles'] = alt_titles\n",
    "\n",
    "# merge column names\n",
    "def change_column_name(old_name, new_name):\n",
    "        if old_name in movie:\n",
    "            movie[new_name] = movie.pop(old_name)\n",
    "        change_column_name('Directed by', 'Director')\n",
    "        change_column_name('Distributed by', 'Distributor')\n",
    "        change_column_name('Edited by', 'Editor(s)')\n",
    "        change_column_name('Length', 'Running time')\n",
    "        change_column_name('Original release', 'Release date')\n",
    "        change_column_name('Music by', 'Composer(s)')\n",
    "        change_column_name('Produced by', 'Producer(s)')\n",
    "        change_column_name('Producer', 'Producer(s)')\n",
    "        change_column_name('Productioncompanies ', 'Production company(s)')\n",
    "        change_column_name('Productioncompany ', 'Production company(s)')\n",
    "        change_column_name('Released', 'Release Date')\n",
    "        change_column_name('Release Date', 'Release date')\n",
    "        change_column_name('Screen story by', 'Writer(s)')\n",
    "        change_column_name('Screenplay by', 'Writer(s)')\n",
    "        change_column_name('Story by', 'Writer(s)')\n",
    "        change_column_name('Theme music composer', 'Composer(s)')\n",
    "        change_column_name('Written by', 'Writer(s)')\n"
   ]
  },
  {
   "cell_type": "code",
   "execution_count": null,
   "metadata": {},
   "outputs": [],
   "source": []
  },
  {
   "cell_type": "code",
   "execution_count": null,
   "id": "281a70fe",
   "metadata": {},
   "outputs": [],
   "source": [
    "# Clean data and create DataFrame\n",
    "clean_movies = [clean_movie(movie) for movie in wiki_movies]\n",
    "wiki_movies_df = pd.DataFrame(clean_movies)\n",
    "print(wiki_movies_df)"
   ]
  },
  {
   "cell_type": "code",
   "execution_count": null,
   "id": "b55c354d",
   "metadata": {},
   "outputs": [],
   "source": [
    "sorted(wiki_movies_df.columns.to_list())"
   ]
  },
  {
   "cell_type": "code",
   "execution_count": null,
   "id": "97fb256a",
   "metadata": {},
   "outputs": [],
   "source": [
    "# Cleaning row data"
   ]
  },
  {
   "cell_type": "code",
   "execution_count": null,
   "id": "94d6004a",
   "metadata": {},
   "outputs": [],
   "source": [
    "wiki_movies_df['imdb_id'] = wiki_movies_df['imdb_link'].str.extract(r'(tt\\d{7})')"
   ]
  },
  {
   "cell_type": "code",
   "execution_count": null,
   "id": "aa73261f",
   "metadata": {},
   "outputs": [],
   "source": [
    "wiki_movies_df['imdb_id'] = wiki_movies_df['imdb_link'].str.extract(r'(tt\\d{7})')\n",
    "print(len(wiki_movies_df))\n",
    "wiki_movies_df.drop_duplicates(subset='imdb_id', inplace=True)\n",
    "print(len(wiki_movies_df))\n",
    "wiki_movies_df.head()"
   ]
  },
  {
   "cell_type": "code",
   "execution_count": null,
   "id": "b7659eec",
   "metadata": {},
   "outputs": [],
   "source": [
    "clean_movies = [clean_movie(movie) for movie in wiki_movies]\n"
   ]
  },
  {
   "cell_type": "code",
   "execution_count": null,
   "id": "f69ac489",
   "metadata": {},
   "outputs": [],
   "source": [
    "clean_movies_df = pd.DataFrame(clean_movies)"
   ]
  },
  {
   "cell_type": "code",
   "execution_count": null,
   "id": "5d698dc5",
   "metadata": {},
   "outputs": [],
   "source": [
    "clean_movies_df.columns.to_list()"
   ]
  },
  {
   "cell_type": "code",
   "execution_count": null,
   "id": "db55b7c9",
   "metadata": {},
   "outputs": [],
   "source": [
    "wiki_movies_df['imdb_id'] = wiki_movies_df['imdb_link'].str.extract(r'(tt\\d{7})')\n",
    "print(len(wiki_movies_df))\n",
    "wiki_movies_df.drop_duplicates(subset='imdb_id', inplace=True)\n",
    "print(len(wiki_movies_df))\n",
    "wiki_movies_df.head()"
   ]
  },
  {
   "cell_type": "code",
   "execution_count": null,
   "id": "6767ff2c",
   "metadata": {},
   "outputs": [],
   "source": [
    "# Count of rows with null value\n",
    "[[column,wiki_movies_df[column].isnull().sum()] for column in wiki_movies_df.columns]"
   ]
  },
  {
   "cell_type": "code",
   "execution_count": null,
   "id": "2faa07e9",
   "metadata": {},
   "outputs": [],
   "source": [
    "# DataFrame with wanted columns\n",
    "[column for column in wiki_movies_df.columns if wiki_movies_df[column].isnull().sum() < len(wiki_movies_df) * 0.9]"
   ]
  },
  {
   "cell_type": "code",
   "execution_count": null,
   "id": "4ab26c8c",
   "metadata": {},
   "outputs": [],
   "source": [
    "# Columns to keep \n",
    "wiki_columns_to_keep = [column for column in wiki_movies_df.columns if wiki_movies_df[column].isnull().sum() < len(wiki_movies_df) * 0.9]\n",
    "wiki_movies_df = wiki_movies_df[wiki_columns_to_keep]"
   ]
  },
  {
   "cell_type": "code",
   "execution_count": null,
   "id": "18b0ad91",
   "metadata": {},
   "outputs": [],
   "source": [
    "# Prepare to parse data\n",
    "# Checking data types\n",
    "wiki_movies_df.dtypes"
   ]
  },
  {
   "cell_type": "code",
   "execution_count": null,
   "id": "6e49c8fd",
   "metadata": {},
   "outputs": [],
   "source": [
    "# Box office Data dropping missing values\n",
    "box_office = wiki_movies_df['Box office'].dropna()"
   ]
  },
  {
   "cell_type": "code",
   "execution_count": null,
   "id": "ad58decd",
   "metadata": {},
   "outputs": [],
   "source": [
    "# Using map method for string\n",
    "def is_not_a_string(x):\n",
    "    return type(x) != str\n",
    "    box_office[box_office.map(is_not_a_string)]\n",
    "    "
   ]
  },
  {
   "cell_type": "code",
   "execution_count": null,
   "id": "29612b47",
   "metadata": {},
   "outputs": [],
   "source": [
    "box_office = box_office.apply(lambda x: ' '.join(x) if type(x) == list else x)"
   ]
  }
 ],
 "metadata": {
  "interpreter": {
   "hash": "d5847e90e9f964b10075a0005d1b1c89c1e22c3089051e0bec285445f52eb4cb"
  },
  "kernelspec": {
   "display_name": "PythonData",
   "language": "python",
   "name": "python3"
  },
  "language_info": {
   "codemirror_mode": {
    "name": "ipython",
    "version": 3
   },
   "file_extension": ".py",
   "mimetype": "text/x-python",
   "name": "python",
   "nbconvert_exporter": "python",
   "pygments_lexer": "ipython3",
   "version": "3.9.7"
  }
 },
 "nbformat": 4,
 "nbformat_minor": 5
}
